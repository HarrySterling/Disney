{
 "cells": [
  {
   "cell_type": "code",
   "execution_count": 1,
   "metadata": {},
   "outputs": [],
   "source": [
    "%%capture\n",
    "pip install pandas"
   ]
  },
  {
   "cell_type": "code",
   "execution_count": 2,
   "metadata": {},
   "outputs": [],
   "source": [
    "%%capture\n",
    "pip install openpyxl"
   ]
  },
  {
   "cell_type": "code",
   "execution_count": 3,
   "metadata": {},
   "outputs": [],
   "source": [
    "import pandas as pd\n",
    "import ipywidgets as widgets\n",
    "import datetime\n",
    "from IPython.display import display, clear_output"
   ]
  },
  {
   "cell_type": "code",
   "execution_count": 4,
   "metadata": {},
   "outputs": [],
   "source": [
    "pd.set_option('max_colwidth', None)"
   ]
  },
  {
   "cell_type": "code",
   "execution_count": 5,
   "metadata": {},
   "outputs": [],
   "source": [
    "excel = pd.read_excel(r\"Dining.xlsx\", sheet_name = \"script\")"
   ]
  },
  {
   "cell_type": "code",
   "execution_count": 6,
   "metadata": {},
   "outputs": [],
   "source": [
    "name_list = []\n",
    "\n",
    "for i in range(len(excel)):\n",
    "    names = excel['Table'][i].split(\",\")\n",
    "#    names = excel['Table'][i]\n",
    "    name_list.append(names)"
   ]
  },
  {
   "cell_type": "code",
   "execution_count": 7,
   "metadata": {},
   "outputs": [],
   "source": [
    "flat_list = [item for sublist in name_list for item in sublist]"
   ]
  },
  {
   "cell_type": "code",
   "execution_count": 8,
   "metadata": {},
   "outputs": [],
   "source": [
    "unique_names = []\n",
    "[unique_names.append(x) for x in flat_list if x not in unique_names];"
   ]
  },
  {
   "cell_type": "code",
   "execution_count": 9,
   "metadata": {},
   "outputs": [],
   "source": [
    "unique_names.sort()"
   ]
  },
  {
   "cell_type": "code",
   "execution_count": 10,
   "metadata": {},
   "outputs": [
    {
     "data": {
      "text/plain": [
       "['Andre Toole',\n",
       " 'Anthony Lester',\n",
       " 'Ashley James',\n",
       " 'Brianne Sterling',\n",
       " 'Chris Paroby',\n",
       " 'Dick Mazzoni',\n",
       " 'Elizabeth James',\n",
       " 'Grandma',\n",
       " 'Grandpa',\n",
       " 'Gussie Toole',\n",
       " 'Harrison Nayden',\n",
       " 'Harry Sterling',\n",
       " 'Jackie Knotts',\n",
       " 'Jacob Paroby',\n",
       " 'Joe Schifano',\n",
       " \"Kelly O'Connor\",\n",
       " 'Lexi Knotts',\n",
       " 'Lyndy Toole',\n",
       " 'Marie Mazzoni',\n",
       " 'Max Toole',\n",
       " 'Natalie Lester',\n",
       " 'Nicole James',\n",
       " 'Patrick II Toole',\n",
       " 'Patrick III Toole',\n",
       " 'Robby Toole',\n",
       " 'Sabrina Quigley',\n",
       " 'Sean Nayden',\n",
       " 'Stephen Paroby',\n",
       " 'Todd James',\n",
       " 'Vinne Lester',\n",
       " 'Vinnie Lester',\n",
       " 'Will Quigley']"
      ]
     },
     "execution_count": 10,
     "metadata": {},
     "output_type": "execute_result"
    }
   ],
   "source": [
    "unique_names"
   ]
  },
  {
   "cell_type": "code",
   "execution_count": 11,
   "metadata": {},
   "outputs": [],
   "source": [
    "# name selector widgets\n",
    "name_dropdown = widgets.Dropdown(\n",
    "    options = unique_names,\n",
    "    #value = '',\n",
    "    description = 'Name:',\n",
    "    disabled=False,\n",
    ")"
   ]
  },
  {
   "cell_type": "code",
   "execution_count": 12,
   "metadata": {},
   "outputs": [],
   "source": [
    "family_unique = [\"Swiss Toole's\", \"James\", \"Mazzoni\", \"Lester\",\n",
    "    \"Paroby\", \"Grandparents\", \"Sterling\", \"Nayden\", \"Joe/Kelly\",\n",
    "    \"Patrick/Katie\", \"Knotts\", \"Quigley\", \"Mom/Dad\"]\n",
    "\n",
    "family_unique.sort()\n",
    "\n",
    " # family selector widgets\n",
    "family_dropdown = widgets.Dropdown(\n",
    "    options = family_unique,\n",
    "    #value = '',\n",
    "    description = 'Family:',\n",
    "    disabled=False,\n",
    ")"
   ]
  },
  {
   "cell_type": "code",
   "execution_count": 13,
   "metadata": {},
   "outputs": [],
   "source": [
    " # type selector widgets\n",
    "type_dropdown = widgets.Dropdown(\n",
    "    options = [\"Name\",\"Family\"],\n",
    "    value = 'Name',\n",
    "    description = 'Type:',\n",
    "    disabled=False,\n",
    ")"
   ]
  },
  {
   "cell_type": "code",
   "execution_count": 14,
   "metadata": {},
   "outputs": [],
   "source": [
    "excel.sort_values(by=[\"Day\",\"Time\"],inplace=True)"
   ]
  },
  {
   "cell_type": "code",
   "execution_count": 48,
   "metadata": {},
   "outputs": [],
   "source": [
    "\n",
    "button = widgets.Button(description=\"Run\")\n",
    "output = widgets.Output()\n",
    "\n",
    "def show_individual():\n",
    "    display(name_select, excel[excel['Table'].str.contains(name_dropdown.value)])\n",
    "\n",
    "def show_family():\n",
    "    if family_dropdown.value == \"Swiss Toole's\":\n",
    "        display(family_select,\n",
    "            excel[(excel['Table'].str.contains(\"Max Toole\")|\n",
    "            (excel['Table'].str.contains(\"Robby Toole\"))|\n",
    "            (excel['Table'].str.contains(\"Andre Toole\"))|\n",
    "            (excel['Table'].str.contains(\"Emily Toole\"))|\n",
    "            (excel['Table'].str.contains(\"Gussi Toole\"))\n",
    "            )])\n",
    "    elif family_dropdown.value == \"Joe/Kelly\":\n",
    "        display(family_select,\n",
    "            excel[(excel['Table'].str.contains(\"Joe Schifano\")|\n",
    "            (excel['Table'].str.contains(\"Kelly O'Connor\"))\n",
    "            )])\n",
    "    elif family_dropdown.value == \"Grandparents\":\n",
    "        display(family_select,\n",
    "            excel[(excel['Table'].str.contains(\"Grandpa\")|\n",
    "            (excel['Table'].str.contains(\"Grandma\"))\n",
    "            )])\n",
    "    elif family_dropdown.value == \"Patrick/Katie\":\n",
    "        display(family_select,\n",
    "            excel[(excel['Table'].str.contains(\"Patrick III Toole\")|\n",
    "            (excel['Table'].str.contains(\"Katie\"))\n",
    "            )])\n",
    "    elif family_dropdown.value == \"Mom/Dad\":\n",
    "        display(family_select,\n",
    "            excel[(excel['Table'].str.contains(\"Patrick II Toole\")|\n",
    "            (excel['Table'].str.contains(\"Lyndy Toole\"))\n",
    "            )])\n",
    "    else:\n",
    "        display(family_select, excel[excel['Table'].str.contains(family_dropdown.value)])\n",
    "\n",
    "def on_button_clicked(b):\n",
    "    with output:\n",
    "        clear_output()\n",
    "        if type_dropdown.value == \"Name\":\n",
    "            show_individual()\n",
    "        else:\n",
    "            show_family()\n",
    "\n",
    "button.on_click(on_button_clicked)"
   ]
  },
  {
   "cell_type": "code",
   "execution_count": 49,
   "metadata": {},
   "outputs": [],
   "source": [
    "type_button = widgets.Button(description=\"Select Type\")\n",
    "\n",
    "def on_type_button_clicked(b):\n",
    "    with output:\n",
    "        clear_output()\n",
    "        if type_dropdown.value == \"Name\":\n",
    "            display(name_select)\n",
    "        else:\n",
    "            display(family_select)\n",
    "\n",
    "type_button.on_click(on_type_button_clicked)\n"
   ]
  },
  {
   "cell_type": "code",
   "execution_count": 50,
   "metadata": {},
   "outputs": [],
   "source": [
    "date_picker = widgets.DatePicker(\n",
    "    description='Pick a Date',\n",
    "    value = datetime.date(2022,3,6),\n",
    "    disabled=False\n",
    ")"
   ]
  },
  {
   "cell_type": "code",
   "execution_count": 51,
   "metadata": {},
   "outputs": [],
   "source": [
    "type_box = widgets.HBox([type_dropdown,type_button])\n",
    "\n",
    "name_select = widgets.VBox([name_dropdown, button])\n",
    "family_select = widgets.VBox([family_dropdown, button])"
   ]
  },
  {
   "cell_type": "code",
   "execution_count": 52,
   "metadata": {},
   "outputs": [
    {
     "data": {
      "application/vnd.jupyter.widget-view+json": {
       "model_id": "77872251310c479da09538243b320677",
       "version_major": 2,
       "version_minor": 0
      },
      "text/plain": [
       "HBox(children=(Dropdown(description='Type:', index=1, options=('Name', 'Family'), value='Family'), Button(desc…"
      ]
     },
     "metadata": {},
     "output_type": "display_data"
    },
    {
     "data": {
      "application/vnd.jupyter.widget-view+json": {
       "model_id": "a1bf4310fb0b4d689d2a8cf65c170044",
       "version_major": 2,
       "version_minor": 0
      },
      "text/plain": [
       "Output()"
      ]
     },
     "metadata": {},
     "output_type": "display_data"
    }
   ],
   "source": [
    "display(type_box, output)"
   ]
  },
  {
   "cell_type": "markdown",
   "metadata": {},
   "source": []
  },
  {
   "cell_type": "code",
   "execution_count": null,
   "metadata": {},
   "outputs": [],
   "source": []
  }
 ],
 "metadata": {
  "kernelspec": {
   "display_name": "Python 3.9.13 ('base')",
   "language": "python",
   "name": "python3"
  },
  "language_info": {
   "codemirror_mode": {
    "name": "ipython",
    "version": 3
   },
   "file_extension": ".py",
   "mimetype": "text/x-python",
   "name": "python",
   "nbconvert_exporter": "python",
   "pygments_lexer": "ipython3",
   "version": "3.9.13"
  },
  "orig_nbformat": 4,
  "vscode": {
   "interpreter": {
    "hash": "1798c7dc3a77f782f9c6f2dad537c4cae00d8c4a53e0043f114c97e759f07fa2"
   }
  }
 },
 "nbformat": 4,
 "nbformat_minor": 2
}
