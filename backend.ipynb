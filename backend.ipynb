{
 "cells": [
  {
   "cell_type": "code",
   "execution_count": null,
   "metadata": {},
   "outputs": [],
   "source": [
    "%%capture\n",
    "pip install pandas"
   ]
  },
  {
   "cell_type": "code",
   "execution_count": null,
   "metadata": {},
   "outputs": [],
   "source": [
    "%%capture\n",
    "pip install openpyxl"
   ]
  },
  {
   "cell_type": "code",
   "execution_count": null,
   "metadata": {},
   "outputs": [],
   "source": [
    "import pandas as pd\n",
    "import ipywidgets as widgets\n",
    "import datetime\n",
    "from IPython.display import display, clear_output"
   ]
  },
  {
   "cell_type": "code",
   "execution_count": null,
   "metadata": {},
   "outputs": [],
   "source": [
    "pd.set_option('max_colwidth', None)"
   ]
  },
  {
   "cell_type": "code",
   "execution_count": null,
   "metadata": {},
   "outputs": [],
   "source": [
    "excel = pd.read_excel(r\"Dining.xlsx\", sheet_name = \"script\")"
   ]
  },
  {
   "cell_type": "code",
   "execution_count": null,
   "metadata": {},
   "outputs": [],
   "source": [
    "name_list = []\n",
    "\n",
    "for i in range(len(excel)):\n",
    "    names = excel['Table'][i].split(\",\")\n",
    "#    names = excel['Table'][i]\n",
    "    name_list.append(names)"
   ]
  },
  {
   "cell_type": "code",
   "execution_count": null,
   "metadata": {},
   "outputs": [],
   "source": [
    "flat_list = [item for sublist in name_list for item in sublist]"
   ]
  },
  {
   "cell_type": "code",
   "execution_count": null,
   "metadata": {},
   "outputs": [],
   "source": [
    "unique_names = []\n",
    "[unique_names.append(x) for x in flat_list if x not in unique_names];"
   ]
  },
  {
   "cell_type": "code",
   "execution_count": null,
   "metadata": {},
   "outputs": [],
   "source": [
    "unique_names.sort()"
   ]
  },
  {
   "cell_type": "code",
   "execution_count": null,
   "metadata": {},
   "outputs": [],
   "source": [
    "unique_names"
   ]
  },
  {
   "cell_type": "code",
   "execution_count": null,
   "metadata": {},
   "outputs": [],
   "source": [
    "# name selector widgets\n",
    "name_dropdown = widgets.Dropdown(\n",
    "    options = unique_names,\n",
    "    #value = '',\n",
    "    description = 'Name:',\n",
    "    disabled=False,\n",
    ")"
   ]
  },
  {
   "cell_type": "code",
   "execution_count": null,
   "metadata": {},
   "outputs": [],
   "source": [
    "family_unique = [\"Swiss Toole's\", \"James\", \"Mazzoni\", \"Lester\",\n",
    "    \"Paroby\", \"Grandparents\", \"Sterling\", \"Nayden\", \"Joe/Kelly\",\n",
    "    \"Patrick/Katie\", \"Knotts\", \"Quigley\", \"Mom/Dad\"]\n",
    "\n",
    "family_unique.sort()\n",
    "\n",
    " # family selector widgets\n",
    "family_dropdown = widgets.Dropdown(\n",
    "    options = family_unique,\n",
    "    #value = '',\n",
    "    description = 'Family:',\n",
    "    disabled=False,\n",
    ")"
   ]
  },
  {
   "cell_type": "code",
   "execution_count": null,
   "metadata": {},
   "outputs": [],
   "source": [
    " # type selector widgets\n",
    "type_dropdown = widgets.Dropdown(\n",
    "    options = [\"Name\",\"Family\"],\n",
    "    value = 'Name',\n",
    "    description = 'Type:',\n",
    "    disabled=False,\n",
    ")"
   ]
  },
  {
   "cell_type": "code",
   "execution_count": null,
   "metadata": {},
   "outputs": [],
   "source": [
    "family_dropdown"
   ]
  },
  {
   "cell_type": "code",
   "execution_count": null,
   "metadata": {},
   "outputs": [],
   "source": [
    "excel.sort_values(by=[\"Day\",\"Time\"],inplace=True)"
   ]
  },
  {
   "cell_type": "code",
   "execution_count": null,
   "metadata": {},
   "outputs": [],
   "source": [
    "button = widgets.Button(description=\"Run\")\n",
    "output = widgets.Output()\n",
    "\n",
    "def show_individual():\n",
    "    display(excel[excel['Table'].str.contains(name_dropdown.value)])\n",
    "\n",
    "def show_family():\n",
    "    if family_dropdown.value == \"Swiss Toole's\":\n",
    "        display(\n",
    "            excel[(excel['Table'].str.contains(\"Max Toole\")|\n",
    "            (excel['Table'].str.contains(\"Robby Toole\"))|\n",
    "            (excel['Table'].str.contains(\"Andre Toole\"))|\n",
    "            (excel['Table'].str.contains(\"Emily Toole\"))|\n",
    "            (excel['Table'].str.contains(\"Gussi Toole\"))\n",
    "            )])\n",
    "    elif family_dropdown.value == \"Joe/Kelly\":\n",
    "        display(\n",
    "            excel[(excel['Table'].str.contains(\"Joe Schifano\")|\n",
    "            (excel['Table'].str.contains(\"Kelly O'Connor\"))\n",
    "            )])\n",
    "    elif family_dropdown.value == \"Grandparents\":\n",
    "        display(\n",
    "            excel[(excel['Table'].str.contains(\"Grandpa\")|\n",
    "            (excel['Table'].str.contains(\"Grandma\"))\n",
    "            )])\n",
    "    elif family_dropdown.value == \"Patrick/Katie\":\n",
    "        display(\n",
    "            excel[(excel['Table'].str.contains(\"Patrick III Toole\")|\n",
    "            (excel['Table'].str.contains(\"Katie\"))\n",
    "            )])\n",
    "    elif family_dropdown.value == \"Mom/Dad\":\n",
    "        display(\n",
    "            excel[(excel['Table'].str.contains(\"Patrick II Toole\")|\n",
    "            (excel['Table'].str.contains(\"Lyndy Toole\"))\n",
    "            )])\n",
    "    else:\n",
    "        display(excel[excel['Table'].str.contains(family_dropdown.value)])\n",
    "\n",
    "def on_button_clicked(b):\n",
    "    with output:\n",
    "        clear_output()\n",
    "        if type_dropdown.value == \"Name\":\n",
    "            show_individual()\n",
    "        else:\n",
    "            show_family()\n",
    "\n",
    "button.on_click(on_button_clicked)"
   ]
  },
  {
   "cell_type": "code",
   "execution_count": null,
   "metadata": {},
   "outputs": [],
   "source": [
    "date_picker = widgets.DatePicker(\n",
    "    description='Pick a Date',\n",
    "    value = datetime.date(2022,3,6),\n",
    "    disabled=False\n",
    ")"
   ]
  },
  {
   "cell_type": "code",
   "execution_count": null,
   "metadata": {},
   "outputs": [],
   "source": [
    "select = widgets.VBox([type_dropdown, name_dropdown , family_dropdown, button, output])"
   ]
  },
  {
   "cell_type": "code",
   "execution_count": null,
   "metadata": {},
   "outputs": [],
   "source": [
    "display(select)"
   ]
  },
  {
   "cell_type": "code",
   "execution_count": null,
   "metadata": {},
   "outputs": [],
   "source": [
    "family_dropdown.value"
   ]
  },
  {
   "cell_type": "code",
   "execution_count": null,
   "metadata": {},
   "outputs": [],
   "source": []
  }
 ],
 "metadata": {
  "kernelspec": {
   "display_name": "Python 3.9.13 ('base')",
   "language": "python",
   "name": "python3"
  },
  "language_info": {
   "codemirror_mode": {
    "name": "ipython",
    "version": 3
   },
   "file_extension": ".py",
   "mimetype": "text/x-python",
   "name": "python",
   "nbconvert_exporter": "python",
   "pygments_lexer": "ipython3",
   "version": "3.9.13"
  },
  "orig_nbformat": 4,
  "vscode": {
   "interpreter": {
    "hash": "1798c7dc3a77f782f9c6f2dad537c4cae00d8c4a53e0043f114c97e759f07fa2"
   }
  }
 },
 "nbformat": 4,
 "nbformat_minor": 2
}
